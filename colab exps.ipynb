{
  "nbformat": 4,
  "nbformat_minor": 0,
  "metadata": {
    "colab": {
      "name": "AI EXPS.ipynb",
      "provenance": []
    },
    "kernelspec": {
      "name": "python3",
      "display_name": "Python 3"
    },
    "language_info": {
      "name": "python"
    }
  },
  "cells": [
    {
      "cell_type": "markdown",
      "source": [
        "**EXP 3 BFS**\n",
        "\n",
        "https://www.geeksforgeeks.org/breadth-first-search-or-bfs-for-a-graph/"
      ],
      "metadata": {
        "id": "BbFYJoH3w5FI"
      }
    },
    {
      "cell_type": "code",
      "source": [
        "# Python3 Program to print BFS traversal\n",
        "# from a given source vertex. BFS(int s)\n",
        "# traverses vertices reachable from s.\n",
        "from collections import defaultdict\n",
        "\n",
        "# This class represents a directed graph\n",
        "# using adjacency list representation\n",
        "class Graph:\n",
        "\n",
        "    # Constructor\n",
        "    def __init__(self):\n",
        "\n",
        "        # default dictionary to store graph\n",
        "        self.graph = defaultdict(list)\n",
        "\n",
        "    # function to add an edge to graph\n",
        "    def addEdge(self,u,v):\n",
        "        self.graph[u].append(v)\n",
        "\n",
        "    # Function to print a BFS of graph\n",
        "    def BFS(self, s):\n",
        "\n",
        "        # Mark all the vertices as not visited\n",
        "        visited = [False] * (max(self.graph) + 1)\n",
        "\n",
        "        # Create a queue for BFS\n",
        "        queue = []\n",
        "\n",
        "        # Mark the source node as\n",
        "        # visited and enqueue it\n",
        "        queue.append(s)\n",
        "        visited[s] = True\n",
        "\n",
        "        while queue:\n",
        "\n",
        "            # Dequeue a vertex from\n",
        "            # queue and print it\n",
        "            s = queue.pop(0)\n",
        "            print (s, end = \" \")\n",
        "\n",
        "            # Get all adjacent vertices of the\n",
        "            # dequeued vertex s. If a adjacent\n",
        "            # has not been visited, then mark it\n",
        "            # visited and enqueue it\n",
        "            for i in self.graph[s]:\n",
        "                if visited[i] == False:\n",
        "                    queue.append(i)\n",
        "                    visited[i] = True\n",
        "\n",
        "# Driver code\n",
        "\n",
        "# Create a graph given in\n",
        "# the above diagram\n",
        "g = Graph()\n",
        "g.addEdge(0, 1)\n",
        "g.addEdge(0, 2)\n",
        "g.addEdge(1, 2)\n",
        "g.addEdge(2, 0)\n",
        "g.addEdge(2, 3)\n",
        "g.addEdge(3, 3)\n",
        "\n",
        "print (\"Following is Breadth First Traversal\"\n",
        "                \" (starting from vertex 2)\")\n",
        "g.BFS(2)\n",
        "\n",
        "# This code is contributed by Neelam Yadav"
      ],
      "metadata": {
        "colab": {
          "base_uri": "https://localhost:8080/"
        },
        "id": "dP56Oo0Sw9_8",
        "outputId": "622e0ac2-72c8-4f5c-fc22-455359c4010c"
      },
      "execution_count": null,
      "outputs": [
        {
          "output_type": "stream",
          "name": "stdout",
          "text": [
            "Following is Breadth First Traversal (starting from vertex 2)\n",
            "2 0 3 1 "
          ]
        }
      ]
    },
    {
      "cell_type": "markdown",
      "source": [
        "**EXP 4** **A Star Algorithm** \n",
        "\n",
        "https://stackabuse.com/basic-ai-concepts-a-search-algorithm/"
      ],
      "metadata": {
        "id": "2uSWANEIvrjJ"
      }
    },
    {
      "cell_type": "code",
      "source": [
        "from collections import deque\n",
        "\n",
        "class Graph:\n",
        "    # example of adjacency list (or rather map)\n",
        "    # adjacency_list = {\n",
        "    # 'A': [('B', 1), ('C', 3), ('D', 7)],\n",
        "    # 'B': [('D', 5)],\n",
        "    # 'C': [('D', 12)]\n",
        "    # }\n",
        "\n",
        "    def __init__(self, adjacency_list):\n",
        "        self.adjacency_list = adjacency_list\n",
        "\n",
        "    def get_neighbors(self, v):\n",
        "        return self.adjacency_list[v]\n",
        "\n",
        "    # heuristic function with equal values for all nodes\n",
        "    def h(self, n):\n",
        "        H = {\n",
        "            'A': 1,\n",
        "            'B': 1,\n",
        "            'C': 1,\n",
        "            'D': 1\n",
        "        }\n",
        "\n",
        "        return H[n]\n",
        "\n",
        "    def a_star_algorithm(self, start_node, stop_node):\n",
        "        # open_list is a list of nodes which have been visited, but who's neighbors\n",
        "        # haven't all been inspected, starts off with the start node\n",
        "        # closed_list is a list of nodes which have been visited\n",
        "        # and who's neighbors have been inspected\n",
        "        open_list = set([start_node])\n",
        "        closed_list = set([])\n",
        "\n",
        "        # g contains current distances from start_node to all other nodes\n",
        "        # the default value (if it's not found in the map) is +infinity\n",
        "        g = {}\n",
        "\n",
        "        g[start_node] = 0\n",
        "\n",
        "        # parents contains an adjacency map of all nodes\n",
        "        parents = {}\n",
        "        parents[start_node] = start_node\n",
        "\n",
        "        while len(open_list) > 0:\n",
        "            n = None\n",
        "\n",
        "            # find a node with the lowest value of f() - evaluation function\n",
        "            for v in open_list:\n",
        "                if n == None or g[v] + self.h(v) < g[n] + self.h(n):\n",
        "                    n = v;\n",
        "\n",
        "            if n == None:\n",
        "                print('Path does not exist!')\n",
        "                return None\n",
        "\n",
        "            # if the current node is the stop_node\n",
        "            # then we begin reconstructin the path from it to the start_node\n",
        "            if n == stop_node:\n",
        "                reconst_path = []\n",
        "\n",
        "                while parents[n] != n:\n",
        "                    reconst_path.append(n)\n",
        "                    n = parents[n]\n",
        "\n",
        "                reconst_path.append(start_node)\n",
        "\n",
        "                reconst_path.reverse()\n",
        "\n",
        "                print('Path found: {}'.format(reconst_path))\n",
        "                return reconst_path\n",
        "\n",
        "            # for all neighbors of the current node do\n",
        "            for (m, weight) in self.get_neighbors(n):\n",
        "                # if the current node isn't in both open_list and closed_list\n",
        "                # add it to open_list and note n as it's parent\n",
        "                if m not in open_list and m not in closed_list:\n",
        "                    open_list.add(m)\n",
        "                    parents[m] = n\n",
        "                    g[m] = g[n] + weight\n",
        "\n",
        "                # otherwise, check if it's quicker to first visit n, then m\n",
        "                # and if it is, update parent data and g data\n",
        "                # and if the node was in the closed_list, move it to open_list\n",
        "                else:\n",
        "                    if g[m] > g[n] + weight:\n",
        "                        g[m] = g[n] + weight\n",
        "                        parents[m] = n\n",
        "\n",
        "                        if m in closed_list:\n",
        "                            closed_list.remove(m)\n",
        "                            open_list.add(m)\n",
        "\n",
        "            # remove n from the open_list, and add it to closed_list\n",
        "            # because all of his neighbors were inspected\n",
        "            open_list.remove(n)\n",
        "            closed_list.add(n)\n",
        "\n",
        "        print('Path does not exist!')\n",
        "        return None\n",
        "\n",
        "\n",
        "adjacency_list = {\n",
        "    'A': [('B', 1), ('C', 3), ('D', 7)],\n",
        "    'B': [('D', 5)],\n",
        "    'C': [('D', 12)]\n",
        "}\n",
        "graph1 = Graph(adjacency_list)\n",
        "graph1.a_star_algorithm('A', 'D')"
      ],
      "metadata": {
        "colab": {
          "base_uri": "https://localhost:8080/"
        },
        "id": "V_Algct1wBfx",
        "outputId": "06f71eb6-05c1-4cda-8367-f490fe94454b"
      },
      "execution_count": null,
      "outputs": [
        {
          "output_type": "stream",
          "name": "stdout",
          "text": [
            "Path found: ['A', 'B', 'D']\n"
          ]
        },
        {
          "output_type": "execute_result",
          "data": {
            "text/plain": [
              "['A', 'B', 'D']"
            ]
          },
          "metadata": {},
          "execution_count": 13
        }
      ]
    },
    {
      "cell_type": "markdown",
      "source": [
        "**EXP 5**\n",
        "**Min Max Algorithm**\n",
        "\n",
        "https://www.geeksforgeeks.org/minimax-algorithm-in-game-theory-set-1-introduction/"
      ],
      "metadata": {
        "id": "-VTnU2FYvS_n"
      }
    },
    {
      "cell_type": "code",
      "source": [
        "import math\n",
        "\n",
        "def minimax (curDepth, nodeIndex,\n",
        "\t\t\tmaxTurn, scores,\n",
        "\t\t\ttargetDepth):\n",
        "\n",
        "\t# base case : targetDepth reached\n",
        "\tif (curDepth == targetDepth):\n",
        "\t\treturn scores[nodeIndex]\n",
        "\t\n",
        "\tif (maxTurn):\n",
        "\t\treturn max(minimax(curDepth + 1, nodeIndex * 2,\n",
        "\t\t\t\t\tFalse, scores, targetDepth),\n",
        "\t\t\t\tminimax(curDepth + 1, nodeIndex * 2 + 1,\n",
        "\t\t\t\t\tFalse, scores, targetDepth))\n",
        "\t\n",
        "\telse:\n",
        "\t\treturn min(minimax(curDepth + 1, nodeIndex * 2,\n",
        "\t\t\t\t\tTrue, scores, targetDepth),\n",
        "\t\t\t\tminimax(curDepth + 1, nodeIndex * 2 + 1,\n",
        "\t\t\t\t\tTrue, scores, targetDepth))\n",
        "\t\n",
        "# Driver code\n",
        "scores = [3, 5, 2, 9, 12, 5, 23, 23]\n",
        "\n",
        "treeDepth = math.log(len(scores), 2)\n",
        "\n",
        "print(\"The optimal value is : \", end = \"\")\n",
        "print(minimax(0, 0, True, scores, treeDepth))\n",
        "\n",
        "# This code is contributed\n",
        "# by rootshadow\n"
      ],
      "metadata": {
        "colab": {
          "base_uri": "https://localhost:8080/"
        },
        "id": "dsHmQQwPvjcX",
        "outputId": "0c8b1d78-0bd1-45d6-bb8f-c8168d349c64"
      },
      "execution_count": null,
      "outputs": [
        {
          "output_type": "stream",
          "name": "stdout",
          "text": [
            "The optimal value is : 12\n"
          ]
        }
      ]
    },
    {
      "cell_type": "markdown",
      "source": [
        "**EXP 7 Goal Stack Planning**\n",
        "\n",
        "https://csveda.com/goal-stack-planning-python-code/"
      ],
      "metadata": {
        "id": "4L4iOjPltV9a"
      }
    },
    {
      "cell_type": "code",
      "source": [
        "tab = []\n",
        "result = []\n",
        "goalList = [\"a\", \"b\", \"c\", \"d\", \"e\"]\n",
        "\n",
        "\n",
        "def parSolution(N):\n",
        "    for i in range(N):\n",
        "        if goalList[i] != result[i]:\n",
        "            return False\n",
        "    return True\n",
        "\n",
        "\n",
        "def Onblock(index, count):\n",
        "\n",
        "    # break point of recursive call\n",
        "    if count == len(goalList)+1:\n",
        "        return True\n",
        "    # copy tab of index value to result\n",
        "    block = tab[index]\n",
        "    # stack block\n",
        "    result.append(block)\n",
        "    print(result)\n",
        "    if parSolution(count):\n",
        "        print(\"Pushed a result solution \")\n",
        "        # remove block from tab\n",
        "        tab.remove(block)\n",
        "        Onblock(0, count + 1)\n",
        "    else:\n",
        "        print(\"result solution not possible, back to the tab\")\n",
        "        # pop out if no partial solution\n",
        "        result.pop()\n",
        "        Onblock(index+1, count)\n",
        "\n",
        "\n",
        "def Ontab(problem):\n",
        "    # check if everything in stack is on the tab\n",
        "    if len(problem) != 0:\n",
        "        tab.append(problem.pop())\n",
        "        Ontab(problem)\n",
        "    # if everything is on the tab the we return true\n",
        "    else:\n",
        "        return True\n",
        "\n",
        "\n",
        "def goal_stack_planing(problem):\n",
        "    # pop problem and put in tab\n",
        "    Ontab(problem)\n",
        "    # print index and number of blocks on result stack\n",
        "    if Onblock(0, 1):\n",
        "        print(result)\n",
        "\n",
        "\n",
        "if __name__ == \"__main__\":\n",
        "    problem = [\"c\", \"a\", \"e\", \"d\", \"b\"]\n",
        "    print(\"Goal Problem\")\n",
        "    for k, j in zip(goalList, problem):\n",
        "        print(k+\"    \"+j)\n",
        "    goal_stack_planing(problem)\n",
        "    print(\"result Solution\")\n",
        "    print(result)"
      ],
      "metadata": {
        "colab": {
          "base_uri": "https://localhost:8080/"
        },
        "id": "LmedTOt5tVtj",
        "outputId": "e6a02769-b57d-430f-ed3f-8d3f4ae7bbb4"
      },
      "execution_count": null,
      "outputs": [
        {
          "output_type": "stream",
          "name": "stdout",
          "text": [
            "Goal Problem\n",
            "a    c\n",
            "b    a\n",
            "c    e\n",
            "d    d\n",
            "e    b\n",
            "['b']\n",
            "result solution not possible, back to the tab\n",
            "['d']\n",
            "result solution not possible, back to the tab\n",
            "['e']\n",
            "result solution not possible, back to the tab\n",
            "['a']\n",
            "Pushed a result solution \n",
            "['a', 'b']\n",
            "Pushed a result solution \n",
            "['a', 'b', 'd']\n",
            "result solution not possible, back to the tab\n",
            "['a', 'b', 'e']\n",
            "result solution not possible, back to the tab\n",
            "['a', 'b', 'c']\n",
            "Pushed a result solution \n",
            "['a', 'b', 'c', 'd']\n",
            "Pushed a result solution \n",
            "['a', 'b', 'c', 'd', 'e']\n",
            "Pushed a result solution \n",
            "result Solution\n",
            "['a', 'b', 'c', 'd', 'e']\n"
          ]
        }
      ]
    },
    {
      "cell_type": "markdown",
      "source": [
        "**EXP 8**\n",
        "**Bayesian Network**\n",
        "\n",
        "https://www.edureka.co/blog/bayesian-networks/#:~:text=A%20Bayesian%20Network%20falls%20under,Directed%20Acyclic%20Graphs%20(DAG)."
      ],
      "metadata": {
        "id": "uvu3PLKVoEt5"
      }
    },
    {
      "cell_type": "code",
      "source": [
        "!pip install pomegranate"
      ],
      "metadata": {
        "colab": {
          "base_uri": "https://localhost:8080/"
        },
        "id": "79MuicWsUv09",
        "outputId": "00c8ea0b-6855-486b-8528-c3753d3d1f7a"
      },
      "execution_count": null,
      "outputs": [
        {
          "output_type": "stream",
          "name": "stdout",
          "text": [
            "Collecting pomegranate\n",
            "  Downloading pomegranate-0.14.8.tar.gz (4.3 MB)\n",
            "\u001b[K     |████████████████████████████████| 4.3 MB 26.5 MB/s \n",
            "\u001b[?25h  Installing build dependencies ... \u001b[?25l\u001b[?25hdone\n",
            "  Getting requirements to build wheel ... \u001b[?25l\u001b[?25hdone\n",
            "    Preparing wheel metadata ... \u001b[?25l\u001b[?25hdone\n",
            "Requirement already satisfied: scipy>=0.17.0 in /usr/local/lib/python3.7/dist-packages (from pomegranate) (1.4.1)\n",
            "Requirement already satisfied: networkx>=2.4 in /usr/local/lib/python3.7/dist-packages (from pomegranate) (2.6.3)\n",
            "Requirement already satisfied: pyyaml in /usr/local/lib/python3.7/dist-packages (from pomegranate) (3.13)\n",
            "Requirement already satisfied: joblib>=0.9.0b4 in /usr/local/lib/python3.7/dist-packages (from pomegranate) (1.1.0)\n",
            "Requirement already satisfied: numpy>=1.20.0 in /usr/local/lib/python3.7/dist-packages (from pomegranate) (1.21.6)\n",
            "Building wheels for collected packages: pomegranate\n",
            "  Building wheel for pomegranate (PEP 517) ... \u001b[?25l\u001b[?25hdone\n",
            "  Created wheel for pomegranate: filename=pomegranate-0.14.8-cp37-cp37m-linux_x86_64.whl size=15006452 sha256=4503d14cfa7eb5b430018dd23c9eba4d707788b1286208664804f6dfedd91aae\n",
            "  Stored in directory: /root/.cache/pip/wheels/24/68/69/0eaab474ef1d65abedcd47de8a38ab21d221d329954d7edd24\n",
            "Successfully built pomegranate\n",
            "Installing collected packages: pomegranate\n",
            "Successfully installed pomegranate-0.14.8\n"
          ]
        }
      ]
    },
    {
      "cell_type": "code",
      "execution_count": null,
      "metadata": {
        "id": "3lk67XamUpDp"
      },
      "outputs": [],
      "source": [
        "import math\n",
        "from pomegranate import *\n",
        "# Initially the door selected by the guest is completely random\n",
        "guest =DiscreteDistribution( { 'A': 1./3, 'B': 1./3, 'C': 1./3 } )\n",
        " \n",
        "# The door containing the prize is also a random process\n",
        "prize =DiscreteDistribution( { 'A': 1./3, 'B': 1./3, 'C': 1./3 } )\n",
        " \n",
        "# The door Monty picks, depends on the choice of the guest and the prize door\n",
        "monty =ConditionalProbabilityTable(\n",
        "[[ 'A', 'A', 'A', 0.0 ],\n",
        "[ 'A', 'A', 'B', 0.5 ],\n",
        "[ 'A', 'A', 'C', 0.5 ],\n",
        "[ 'A', 'B', 'A', 0.0 ],\n",
        "[ 'A', 'B', 'B', 0.0 ],\n",
        "[ 'A', 'B', 'C', 1.0 ],\n",
        "[ 'A', 'C', 'A', 0.0 ],\n",
        "[ 'A', 'C', 'B', 1.0 ],\n",
        "[ 'A', 'C', 'C', 0.0 ],\n",
        "[ 'B', 'A', 'A', 0.0 ],\n",
        "[ 'B', 'A', 'B', 0.0 ],\n",
        "[ 'B', 'A', 'C', 1.0 ],\n",
        "[ 'B', 'B', 'A', 0.5 ],\n",
        "[ 'B', 'B', 'B', 0.0 ],\n",
        "[ 'B', 'B', 'C', 0.5 ],\n",
        "[ 'B', 'C', 'A', 1.0 ],\n",
        "[ 'B', 'C', 'B', 0.0 ],\n",
        "[ 'B', 'C', 'C', 0.0 ],\n",
        "[ 'C', 'A', 'A', 0.0 ],\n",
        "[ 'C', 'A', 'B', 1.0 ],\n",
        "[ 'C', 'A', 'C', 0.0 ],\n",
        "[ 'C', 'B', 'A', 1.0 ],\n",
        "[ 'C', 'B', 'B', 0.0 ],\n",
        "[ 'C', 'B', 'C', 0.0 ],\n",
        "[ 'C', 'C', 'A', 0.5 ],\n",
        "[ 'C', 'C', 'B', 0.5 ],\n",
        "[ 'C', 'C', 'C', 0.0 ]], [guest, prize] )\n",
        " \n",
        "d1 = State( guest, name=\"guest\" )\n",
        "d2 = State( prize, name=\"prize\" )\n",
        "d3 = State( monty, name=\"monty\" )\n",
        " \n",
        "#Building the Bayesian Network\n",
        "network = BayesianNetwork( \"Solving the Monty Hall Problem With Bayesian Networks\" )\n",
        "network.add_states(d1, d2, d3)\n",
        "network.add_edge(d1, d3)\n",
        "network.add_edge(d2, d3)\n",
        "network.bake()"
      ]
    },
    {
      "cell_type": "code",
      "source": [
        "beliefs = network.predict_proba({ 'guest' : 'A' })\n",
        "beliefs = map(str, beliefs)\n",
        "print(\"n\".join( \"{}t{}\".format( state.name, belief ) for state, belief in zip( network.states, beliefs ) ))\n",
        " \n",
        "print(\"guest A\")\n",
        "prize = {\n",
        "\"class\" :\"Distribution\",\n",
        "\"dtype\" :\"str\",\n",
        "\"name\" :\"DiscreteDistribution\",\n",
        "\"parameters\" :[\n",
        "{\n",
        "\"A\" :0.3333333333333333,\n",
        "\"B\" :0.3333333333333333,\n",
        "\"C\" :0.3333333333333333\n",
        "}\n",
        "],\n",
        "}\n",
        "\n",
        "monty = {\n",
        "\"class\" :\"Distribution\",\n",
        "\"dtype\" :\"str\",\n",
        "\"name\" :\"DiscreteDistribution\",\n",
        "\"parameters\" :[\n",
        "{\n",
        "\"C\" :0.49999999999999983,\n",
        "\"A\" :0.0,\n",
        "\"B\" :0.49999999999999983\n",
        "}\n",
        "],\n",
        "}"
      ],
      "metadata": {
        "colab": {
          "base_uri": "https://localhost:8080/"
        },
        "id": "Ly0voogcVzl2",
        "outputId": "76a1dc64-bf55-451c-8236-2978b52b7bed"
      },
      "execution_count": null,
      "outputs": [
        {
          "output_type": "stream",
          "name": "stdout",
          "text": [
            "guesttAnprizet{\n",
            "    \"class\" : \"Distribution\",\n",
            "    \"dtype\" : \"str\",\n",
            "    \"name\" : \"DiscreteDistribution\",\n",
            "    \"parameters\" : [\n",
            "        {\n",
            "            \"A\" : 0.3333333333333333,\n",
            "            \"B\" : 0.3333333333333333,\n",
            "            \"C\" : 0.3333333333333333\n",
            "        }\n",
            "    ],\n",
            "    \"frozen\" : false\n",
            "}nmontyt{\n",
            "    \"class\" : \"Distribution\",\n",
            "    \"dtype\" : \"str\",\n",
            "    \"name\" : \"DiscreteDistribution\",\n",
            "    \"parameters\" : [\n",
            "        {\n",
            "            \"C\" : 0.49999999999999983,\n",
            "            \"A\" : 0.0,\n",
            "            \"B\" : 0.49999999999999983\n",
            "        }\n",
            "    ],\n",
            "    \"frozen\" : false\n",
            "}\n",
            "guest A\n"
          ]
        }
      ]
    },
    {
      "cell_type": "code",
      "source": [
        "beliefs = network.predict_proba({'guest' : 'A', 'monty' : 'B'})\n",
        "print(\"n\".join( \"{}t{}\".format( state.name, str(belief) ) for state, belief in zip( network.states, beliefs )))\n",
        " \n",
        "# guest A\n",
        "prize = {\n",
        "\"class\" :\"Distribution\",\n",
        "\"dtype\" :\"str\",\n",
        "\"name\" :\"DiscreteDistribution\",\n",
        "\"parameters\" :[\n",
        "{\n",
        "\"A\" :0.3333333333333334,\n",
        "\"B\" :0.0,\n",
        "\"C\" :0.6666666666666664\n",
        "}\n",
        "],\n",
        "}"
      ],
      "metadata": {
        "id": "P9c0MQCcWADt",
        "outputId": "e36241e2-ae5b-46a3-b6fc-38153748b2d3",
        "colab": {
          "base_uri": "https://localhost:8080/"
        }
      },
      "execution_count": null,
      "outputs": [
        {
          "output_type": "stream",
          "name": "stdout",
          "text": [
            "guesttAnprizet{\n",
            "    \"class\" : \"Distribution\",\n",
            "    \"dtype\" : \"str\",\n",
            "    \"name\" : \"DiscreteDistribution\",\n",
            "    \"parameters\" : [\n",
            "        {\n",
            "            \"A\" : 0.3333333333333334,\n",
            "            \"B\" : 0.0,\n",
            "            \"C\" : 0.6666666666666664\n",
            "        }\n",
            "    ],\n",
            "    \"frozen\" : false\n",
            "}nmontytB\n"
          ]
        }
      ]
    },
    {
      "cell_type": "markdown",
      "source": [
        "**Another EXP 8**"
      ],
      "metadata": {
        "id": "NgkfwrQQCLr1"
      }
    },
    {
      "cell_type": "code",
      "source": [
        "import math\n",
        "from IPython.core.display import ProgressBar\n",
        "W = [[1.0 , 0.0], [0.1 , 0.9], [0.1, 0.9], [0.01 , 0.99]]\n",
        "R = [[0.8, 0.2], [0.2, 0.8]]\n",
        "S = [[0.5 , 0.5] , [0.9, 0.1]]\n",
        "C = [[0.5, 0.5]]\n",
        "dag = {'C' :['S', 'R'], 'S' :['W'], 'R' : ['W']}\n",
        "\n",
        "probS = float(input('Enter probability of S :'))\n",
        "probC = float(input('Enter probability of C :'))\n",
        "probSF = 1 - probS\n",
        "probR = float(input('Enter probability of R :'))\n",
        "probRF = 1 - probR\n",
        "probWSR = float(input('Enter probability of W/SR :'))\n",
        "probWSR_ = float(input('Enter probability of W/SRF :'))\n",
        "probWS_R = float(input('Enter probability of W/SFR :'))\n",
        "probWS_R_ = float(input('Enter probability of W/SFRF :'))\n",
        "\n",
        "\n",
        "probW = probWSR * probS *probR + probWSR_ * probS * probRF + probWS_R * probSF * probR + probWS_R_ * probSF * probRF\n",
        "print('The probability of wet grass is :', probW)\n",
        "\n",
        "probA = probW *probRF *probS *probC\n",
        "print('The probability of the given condition is:', probA)"
      ],
      "metadata": {
        "colab": {
          "base_uri": "https://localhost:8080/"
        },
        "id": "m4sA5CXBCK-0",
        "outputId": "02702651-eda1-4700-ceee-bb3f18d7e091"
      },
      "execution_count": null,
      "outputs": [
        {
          "output_type": "stream",
          "name": "stdout",
          "text": [
            "Enter probability of S :0.30\n",
            "Enter probability of C :0.50\n",
            "Enter probability of R :0.50\n",
            "Enter probability of W/SR :0.99\n",
            "Enter probability of W/SRF :0.90\n",
            "Enter probability of W/SFR :0.90\n",
            "Enter probability of W/SFRF :0.00\n",
            "The probability of wet grass is : 0.5985\n",
            "The probability of the given condition is: 0.044887500000000004\n"
          ]
        }
      ]
    }
  ]
}